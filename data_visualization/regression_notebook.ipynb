{
 "cells": [
  {
   "cell_type": "code",
   "execution_count": 2,
   "metadata": {},
   "outputs": [
    {
     "name": "stdout",
     "output_type": "stream",
     "text": [
      "Defaulting to user installation because normal site-packages is not writeable\n",
      "Requirement already satisfied: scikit.learn in c:\\users\\user\\appdata\\local\\packages\\pythonsoftwarefoundation.python.3.12_qbz5n2kfra8p0\\localcache\\local-packages\\python312\\site-packages (1.5.0)\n",
      "Requirement already satisfied: numpy>=1.19.5 in c:\\users\\user\\appdata\\local\\packages\\pythonsoftwarefoundation.python.3.12_qbz5n2kfra8p0\\localcache\\local-packages\\python312\\site-packages (from scikit.learn) (2.0.0)\n",
      "Requirement already satisfied: scipy>=1.6.0 in c:\\users\\user\\appdata\\local\\packages\\pythonsoftwarefoundation.python.3.12_qbz5n2kfra8p0\\localcache\\local-packages\\python312\\site-packages (from scikit.learn) (1.13.1)\n",
      "Requirement already satisfied: joblib>=1.2.0 in c:\\users\\user\\appdata\\local\\packages\\pythonsoftwarefoundation.python.3.12_qbz5n2kfra8p0\\localcache\\local-packages\\python312\\site-packages (from scikit.learn) (1.4.2)\n",
      "Requirement already satisfied: threadpoolctl>=3.1.0 in c:\\users\\user\\appdata\\local\\packages\\pythonsoftwarefoundation.python.3.12_qbz5n2kfra8p0\\localcache\\local-packages\\python312\\site-packages (from scikit.learn) (3.5.0)\n",
      "Defaulting to user installation because normal site-packages is not writeable\n",
      "Requirement already satisfied: matplotlib in c:\\users\\user\\appdata\\local\\packages\\pythonsoftwarefoundation.python.3.12_qbz5n2kfra8p0\\localcache\\local-packages\\python312\\site-packages (3.9.0)\n",
      "Requirement already satisfied: contourpy>=1.0.1 in c:\\users\\user\\appdata\\local\\packages\\pythonsoftwarefoundation.python.3.12_qbz5n2kfra8p0\\localcache\\local-packages\\python312\\site-packages (from matplotlib) (1.2.1)\n",
      "Requirement already satisfied: cycler>=0.10 in c:\\users\\user\\appdata\\local\\packages\\pythonsoftwarefoundation.python.3.12_qbz5n2kfra8p0\\localcache\\local-packages\\python312\\site-packages (from matplotlib) (0.12.1)\n",
      "Requirement already satisfied: fonttools>=4.22.0 in c:\\users\\user\\appdata\\local\\packages\\pythonsoftwarefoundation.python.3.12_qbz5n2kfra8p0\\localcache\\local-packages\\python312\\site-packages (from matplotlib) (4.53.0)\n",
      "Requirement already satisfied: kiwisolver>=1.3.1 in c:\\users\\user\\appdata\\local\\packages\\pythonsoftwarefoundation.python.3.12_qbz5n2kfra8p0\\localcache\\local-packages\\python312\\site-packages (from matplotlib) (1.4.5)\n",
      "Requirement already satisfied: numpy>=1.23 in c:\\users\\user\\appdata\\local\\packages\\pythonsoftwarefoundation.python.3.12_qbz5n2kfra8p0\\localcache\\local-packages\\python312\\site-packages (from matplotlib) (2.0.0)\n",
      "Requirement already satisfied: packaging>=20.0 in c:\\users\\user\\appdata\\local\\packages\\pythonsoftwarefoundation.python.3.12_qbz5n2kfra8p0\\localcache\\local-packages\\python312\\site-packages (from matplotlib) (24.1)\n",
      "Requirement already satisfied: pillow>=8 in c:\\users\\user\\appdata\\local\\packages\\pythonsoftwarefoundation.python.3.12_qbz5n2kfra8p0\\localcache\\local-packages\\python312\\site-packages (from matplotlib) (10.3.0)\n",
      "Requirement already satisfied: pyparsing>=2.3.1 in c:\\users\\user\\appdata\\local\\packages\\pythonsoftwarefoundation.python.3.12_qbz5n2kfra8p0\\localcache\\local-packages\\python312\\site-packages (from matplotlib) (3.1.2)\n",
      "Requirement already satisfied: python-dateutil>=2.7 in c:\\users\\user\\appdata\\local\\packages\\pythonsoftwarefoundation.python.3.12_qbz5n2kfra8p0\\localcache\\local-packages\\python312\\site-packages (from matplotlib) (2.9.0.post0)\n",
      "Requirement already satisfied: six>=1.5 in c:\\users\\user\\appdata\\local\\packages\\pythonsoftwarefoundation.python.3.12_qbz5n2kfra8p0\\localcache\\local-packages\\python312\\site-packages (from python-dateutil>=2.7->matplotlib) (1.16.0)\n",
      "Defaulting to user installation because normal site-packages is not writeable\n",
      "Requirement already satisfied: pandas in c:\\users\\user\\appdata\\local\\packages\\pythonsoftwarefoundation.python.3.12_qbz5n2kfra8p0\\localcache\\local-packages\\python312\\site-packages (2.2.2)\n",
      "Requirement already satisfied: numpy>=1.26.0 in c:\\users\\user\\appdata\\local\\packages\\pythonsoftwarefoundation.python.3.12_qbz5n2kfra8p0\\localcache\\local-packages\\python312\\site-packages (from pandas) (2.0.0)\n",
      "Requirement already satisfied: python-dateutil>=2.8.2 in c:\\users\\user\\appdata\\local\\packages\\pythonsoftwarefoundation.python.3.12_qbz5n2kfra8p0\\localcache\\local-packages\\python312\\site-packages (from pandas) (2.9.0.post0)\n",
      "Requirement already satisfied: pytz>=2020.1 in c:\\users\\user\\appdata\\local\\packages\\pythonsoftwarefoundation.python.3.12_qbz5n2kfra8p0\\localcache\\local-packages\\python312\\site-packages (from pandas) (2024.1)\n",
      "Requirement already satisfied: tzdata>=2022.7 in c:\\users\\user\\appdata\\local\\packages\\pythonsoftwarefoundation.python.3.12_qbz5n2kfra8p0\\localcache\\local-packages\\python312\\site-packages (from pandas) (2024.1)\n",
      "Requirement already satisfied: six>=1.5 in c:\\users\\user\\appdata\\local\\packages\\pythonsoftwarefoundation.python.3.12_qbz5n2kfra8p0\\localcache\\local-packages\\python312\\site-packages (from python-dateutil>=2.8.2->pandas) (1.16.0)\n",
      "Defaulting to user installation because normal site-packages is not writeable\n",
      "Requirement already satisfied: numpy in c:\\users\\user\\appdata\\local\\packages\\pythonsoftwarefoundation.python.3.12_qbz5n2kfra8p0\\localcache\\local-packages\\python312\\site-packages (2.0.0)\n"
     ]
    }
   ],
   "source": [
    "! pip install scikit.learn\n",
    "! pip install matplotlib\n",
    "! pip install pandas\n",
    "! pip install numpy\n"
   ]
  },
  {
   "cell_type": "markdown",
   "metadata": {},
   "source": [
    "Importing Dependencies\n",
    "<h5> We input dependencies here. the dependencies needed for this notebook are\n",
    "<li> pandas\n",
    "<li>matplotlib\n",
    "<li> numpy\n"
   ]
  },
  {
   "cell_type": "code",
   "execution_count": 9,
   "metadata": {},
   "outputs": [],
   "source": [
    "import pandas as pd\n",
    "import matplotlib.pyplot as plt\n",
    "import numpy as np\n"
   ]
  },
  {
   "cell_type": "markdown",
   "metadata": {},
   "source": [
    "<h3>1. Reading Data <br>\n",
    "\n",
    "Initially we read the data put it on csv file. So we can use it to train the linear regration model\n"
   ]
  },
  {
   "cell_type": "code",
   "execution_count": 2,
   "metadata": {},
   "outputs": [
    {
     "name": "stderr",
     "output_type": "stream",
     "text": [
      "<>:20: SyntaxWarning: invalid escape sequence '\\p'\n",
      "<>:20: SyntaxWarning: invalid escape sequence '\\p'\n",
      "C:\\Users\\user\\AppData\\Local\\Temp\\ipykernel_13200\\3975676189.py:20: SyntaxWarning: invalid escape sequence '\\p'\n",
      "  data_frame.to_csv('C:\\python data science\\data_visualization\\Student_score.csv',index=False)\n",
      "C:\\Users\\user\\AppData\\Local\\Temp\\ipykernel_13200\\3975676189.py:20: SyntaxWarning: invalid escape sequence '\\p'\n",
      "  data_frame.to_csv('C:\\python data science\\data_visualization\\Student_score.csv',index=False)\n"
     ]
    },
    {
     "ename": "ValueError",
     "evalue": "invalid literal for int() with base 10: ''",
     "output_type": "error",
     "traceback": [
      "\u001b[1;31m---------------------------------------------------------------------------\u001b[0m",
      "\u001b[1;31mValueError\u001b[0m                                Traceback (most recent call last)",
      "Cell \u001b[1;32mIn[2], line 8\u001b[0m\n\u001b[0;32m      5\u001b[0m Hour\u001b[38;5;241m=\u001b[39m[]\n\u001b[0;32m      6\u001b[0m Score\u001b[38;5;241m=\u001b[39m[]\n\u001b[1;32m----> 8\u001b[0m \u001b[38;5;28;01mfor\u001b[39;00m i \u001b[38;5;129;01min\u001b[39;00m \u001b[38;5;28mrange\u001b[39m(\u001b[38;5;28;43mint\u001b[39;49m\u001b[43m(\u001b[49m\u001b[43mN\u001b[49m\u001b[43m)\u001b[49m):\n\u001b[0;32m      9\u001b[0m     student\u001b[38;5;241m.\u001b[39mappend(\u001b[38;5;28minput\u001b[39m(\u001b[38;5;124mf\u001b[39m\u001b[38;5;124m'\u001b[39m\u001b[38;5;124menter student\u001b[39m\u001b[38;5;132;01m{\u001b[39;00mi\u001b[38;5;132;01m}\u001b[39;00m\u001b[38;5;124m name:\u001b[39m\u001b[38;5;124m'\u001b[39m))\n\u001b[0;32m     10\u001b[0m     Hour\u001b[38;5;241m.\u001b[39mappend(\u001b[38;5;28minput\u001b[39m(\u001b[38;5;124mf\u001b[39m\u001b[38;5;124m\"\u001b[39m\u001b[38;5;124mEnter the Hours\u001b[39m\u001b[38;5;132;01m{\u001b[39;00mstudent[i]\u001b[38;5;132;01m}\u001b[39;00m\u001b[38;5;124m:\u001b[39m\u001b[38;5;124m\"\u001b[39m))\n",
      "\u001b[1;31mValueError\u001b[0m: invalid literal for int() with base 10: ''"
     ]
    }
   ],
   "source": [
    "import pandas as pd\n",
    "#student_information=()\n",
    "N=input(\"enter how many student:\")\n",
    "student=[]\n",
    "Hour=[]\n",
    "Score=[]\n",
    "\n",
    "for i in range(int(N)):\n",
    "    student.append(input(f'enter student{i} name:'))\n",
    "    Hour.append(input(f\"Enter the Hours{student[i]}:\"))\n",
    "    Score.append(input(f\"Enter the score obtained by{student[i]}:\"))\n",
    "data_frame=pd.DataFrame()\n",
    "\n",
    "data_frame['Name']=student\n",
    "data_frame['Hour']=Hour\n",
    "data_frame['Score']=Score\n",
    "\n",
    "#data_frame=data_frame.sort_values(by='marks', ascending=False)\n",
    "#how to save dataframen here\n",
    "data_frame.to_csv('C:\\python data science\\data_visualization\\Student_score.csv',index=False)\n"
   ]
  },
  {
   "cell_type": "code",
   "execution_count": 3,
   "metadata": {},
   "outputs": [
    {
     "name": "stderr",
     "output_type": "stream",
     "text": [
      "<>:1: SyntaxWarning: invalid escape sequence '\\p'\n",
      "<>:1: SyntaxWarning: invalid escape sequence '\\p'\n",
      "C:\\Users\\user\\AppData\\Local\\Temp\\ipykernel_6356\\2548149838.py:1: SyntaxWarning: invalid escape sequence '\\p'\n",
      "  data_student=pd.read_csv('C:\\python data science\\data_visualization\\Student_score.csv')\n"
     ]
    },
    {
     "data": {
      "text/html": [
       "<div>\n",
       "<style scoped>\n",
       "    .dataframe tbody tr th:only-of-type {\n",
       "        vertical-align: middle;\n",
       "    }\n",
       "\n",
       "    .dataframe tbody tr th {\n",
       "        vertical-align: top;\n",
       "    }\n",
       "\n",
       "    .dataframe thead th {\n",
       "        text-align: right;\n",
       "    }\n",
       "</style>\n",
       "<table border=\"1\" class=\"dataframe\">\n",
       "  <thead>\n",
       "    <tr style=\"text-align: right;\">\n",
       "      <th></th>\n",
       "      <th>Name</th>\n",
       "      <th>Hour</th>\n",
       "      <th>Score</th>\n",
       "    </tr>\n",
       "  </thead>\n",
       "  <tbody>\n",
       "    <tr>\n",
       "      <th>0</th>\n",
       "      <td>saroj</td>\n",
       "      <td>40</td>\n",
       "      <td>90</td>\n",
       "    </tr>\n",
       "    <tr>\n",
       "      <th>1</th>\n",
       "      <td>ram</td>\n",
       "      <td>30</td>\n",
       "      <td>80</td>\n",
       "    </tr>\n",
       "    <tr>\n",
       "      <th>2</th>\n",
       "      <td>navin</td>\n",
       "      <td>30</td>\n",
       "      <td>70</td>\n",
       "    </tr>\n",
       "    <tr>\n",
       "      <th>3</th>\n",
       "      <td>sajan</td>\n",
       "      <td>30</td>\n",
       "      <td>70</td>\n",
       "    </tr>\n",
       "    <tr>\n",
       "      <th>4</th>\n",
       "      <td>ritesh</td>\n",
       "      <td>35</td>\n",
       "      <td>85</td>\n",
       "    </tr>\n",
       "    <tr>\n",
       "      <th>5</th>\n",
       "      <td>prakash</td>\n",
       "      <td>35</td>\n",
       "      <td>89</td>\n",
       "    </tr>\n",
       "  </tbody>\n",
       "</table>\n",
       "</div>"
      ],
      "text/plain": [
       "      Name  Hour  Score\n",
       "0    saroj    40     90\n",
       "1      ram    30     80\n",
       "2    navin    30     70\n",
       "3    sajan    30     70\n",
       "4   ritesh    35     85\n",
       "5  prakash    35     89"
      ]
     },
     "metadata": {},
     "output_type": "display_data"
    }
   ],
   "source": [
    "data_student=pd.read_csv('C:\\python data science\\data_visualization\\Student_score.csv')\n",
    "display(data_student.head(6))"
   ]
  },
  {
   "cell_type": "markdown",
   "metadata": {},
   "source": [
    "<H3>2. Visualizing Data <br>\n",
    "From our previous session we learn that whenever we have same dimension data 2d-3d data. Rule of thumb is that we should visualize the data to see the underline pattern on it."
   ]
  },
  {
   "cell_type": "code",
   "execution_count": 14,
   "metadata": {},
   "outputs": [
    {
     "data": {
      "text/plain": [
       "Text(0, 0.5, 'Scores')"
      ]
     },
     "execution_count": 14,
     "metadata": {},
     "output_type": "execute_result"
    },
    {
     "data": {
      "image/png": "[encoded data removed]",
      "text/plain": [
       "<Figure size 640x480 with 1 Axes>"
      ]
     },
     "metadata": {},
     "output_type": "display_data"
    }
   ],
   "source": [
    "import numpy as np\n",
    "\n",
    "X=np.array(data_student['Hour'])\n",
    "Y=np.array(data_student['Score'])\n",
    "\n",
    "plt.scatter(X,Y)\n",
    "plt.xlabel('hours')\n",
    "plt.ylabel('Scores')\n"
   ]
  },
  {
   "cell_type": "code",
   "execution_count": 13,
   "metadata": {},
   "outputs": [
    {
     "name": "stdout",
     "output_type": "stream",
     "text": [
      "2.1953350554626954\n",
      "5.353213797295254\n",
      "[93.16661601580307, 71.21326546117612, 71.21326546117612, 71.21326546117612, 82.1899407384896, 82.1899407384896, 27.30656435192221, 60.23659018386264, 93.16661601580307, 49.25991490654916, 82.1899407384896, 69.01793040571343, 82.1899407384896, 93.16661601580307, 93.16661601580307, 49.25991490654916, 49.25991490654916, 71.21326546117612, 71.21326546117612, 93.16661601580307]\n",
      "Marks of student who takes 30 hours\n",
      "71.21326546117612\n"
     ]
    },
    {
     "data": {
      "image/png": "[encoded data removed]",
      "text/plain": [
       "<Figure size 640x480 with 1 Axes>"
      ]
     },
     "metadata": {},
     "output_type": "display_data"
    }
   ],
   "source": [
    "x=data_student['Hour'].to_list()\n",
    "y=data_student['Score'].to_list()\n",
    "num=0\n",
    "len1=0\n",
    "X_mean=sum(x)/len(x)\n",
    "Y_mean=sum(y)/len(y)\n",
    "for i in range (len(x)):\n",
    "    num=num+(x[i]-X_mean)*(y[i]-Y_mean)\n",
    "    len1=len1+(x[i]-X_mean)**2\n",
    "m=num/len1\n",
    "c=Y_mean-m*X_mean\n",
    "print(m)\n",
    "print(c)\n",
    "y_predict=[]\n",
    "for i in range(len(x)):\n",
    "    y_predict.append(m*x[i]+c)\n",
    "\n",
    "print(y_predict)\n",
    "plt.scatter(X,Y)\n",
    "plt.plot(X,np.array(y_predict),color='red')\n",
    "\n",
    "print(\"Marks of student who takes 30 hours\")\n",
    "print(m*30+c)"
   ]
  },
  {
   "cell_type": "code",
   "execution_count": null,
   "metadata": {},
   "outputs": [],
   "source": []
  },
  {
   "cell_type": "markdown",
   "metadata": {},
   "source": [
    "Gradient Descent Approach"
   ]
  },
  {
   "cell_type": "code",
   "execution_count": 12,
   "metadata": {},
   "outputs": [
    {
     "name": "stdout",
     "output_type": "stream",
     "text": [
      "Epoch0:MSE=2.0896573003616167e+39\n",
      "Epoch10:MSE=2.0896573003616167e+39\n",
      "Epoch20:MSE=2.0896573003616167e+39\n",
      "Epoch30:MSE=2.0896573003616167e+39\n",
      "Epoch40:MSE=2.0896573003616167e+39\n",
      "Epoch50:MSE=2.0896573003616167e+39\n",
      "Epoch60:MSE=2.0896573003616167e+39\n",
      "Epoch70:MSE=2.0896573003616167e+39\n",
      "Epoch80:MSE=2.0896573003616167e+39\n",
      "Epoch90:MSE=2.0896573003616167e+39\n",
      "m = -1.7592093232302734e+16, c = 2640876449.4664454\n",
      "Final MSE = 2.0896573003616167e+39\n",
      "[2.0896573003616167e+39, 2.0896573003616167e+39, 2.0896573003616167e+39, 2.0896573003616167e+39, 2.0896573003616167e+39, 2.0896573003616167e+39, 2.0896573003616167e+39, 2.0896573003616167e+39, 2.0896573003616167e+39, 2.0896573003616167e+39, 2.0896573003616167e+39, 2.0896573003616167e+39, 2.0896573003616167e+39, 2.0896573003616167e+39, 2.0896573003616167e+39, 2.0896573003616167e+39, 2.0896573003616167e+39, 2.0896573003616167e+39, 2.0896573003616167e+39, 2.0896573003616167e+39, 2.0896573003616167e+39, 2.0896573003616167e+39, 2.0896573003616167e+39, 2.0896573003616167e+39, 2.0896573003616167e+39, 2.0896573003616167e+39, 2.0896573003616167e+39, 2.0896573003616167e+39, 2.0896573003616167e+39, 2.0896573003616167e+39, 2.0896573003616167e+39, 2.0896573003616167e+39, 2.0896573003616167e+39, 2.0896573003616167e+39, 2.0896573003616167e+39, 2.0896573003616167e+39, 2.0896573003616167e+39, 2.0896573003616167e+39, 2.0896573003616167e+39, 2.0896573003616167e+39, 2.0896573003616167e+39, 2.0896573003616167e+39, 2.0896573003616167e+39, 2.0896573003616167e+39, 2.0896573003616167e+39, 2.0896573003616167e+39, 2.0896573003616167e+39, 2.0896573003616167e+39, 2.0896573003616167e+39, 2.0896573003616167e+39, 2.0896573003616167e+39, 2.0896573003616167e+39, 2.0896573003616167e+39, 2.0896573003616167e+39, 2.0896573003616167e+39, 2.0896573003616167e+39, 2.0896573003616167e+39, 2.0896573003616167e+39, 2.0896573003616167e+39, 2.0896573003616167e+39, 2.0896573003616167e+39, 2.0896573003616167e+39, 2.0896573003616167e+39, 2.0896573003616167e+39, 2.0896573003616167e+39, 2.0896573003616167e+39, 2.0896573003616167e+39, 2.0896573003616167e+39, 2.0896573003616167e+39, 2.0896573003616167e+39, 2.0896573003616167e+39, 2.0896573003616167e+39, 2.0896573003616167e+39, 2.0896573003616167e+39, 2.0896573003616167e+39, 2.0896573003616167e+39, 2.0896573003616167e+39, 2.0896573003616167e+39, 2.0896573003616167e+39, 2.0896573003616167e+39, 2.0896573003616167e+39, 2.0896573003616167e+39, 2.0896573003616167e+39, 2.0896573003616167e+39, 2.0896573003616167e+39, 2.0896573003616167e+39, 2.0896573003616167e+39, 2.0896573003616167e+39, 2.0896573003616167e+39, 2.0896573003616167e+39, 2.0896573003616167e+39, 2.0896573003616167e+39, 2.0896573003616167e+39, 2.0896573003616167e+39, 2.0896573003616167e+39, 2.0896573003616167e+39, 2.0896573003616167e+39, 2.0896573003616167e+39, 2.0896573003616167e+39, 2.0896573003616167e+39]\n"
     ]
    },
    {
     "data": {
      "image/png": "[encoded data removed]",
      "text/plain": [
       "<Figure size 640x480 with 1 Axes>"
      ]
     },
     "metadata": {},
     "output_type": "display_data"
    },
    {
     "name": "stdout",
     "output_type": "stream",
     "text": [
      "-9.057246328718155e+33\n"
     ]
    },
    {
     "ename": "",
     "evalue": "",
     "output_type": "error",
     "traceback": [
      "\u001b[1;31mThe Kernel crashed while executing code in the current cell or a previous cell. \n",
      "\u001b[1;31mPlease review the code in the cell(s) to identify a possible cause of the failure. \n",
      "\u001b[1;31mClick <a href='https://aka.ms/vscodeJupyterKernelCrash'>here</a> for more info. \n",
      "\u001b[1;31mView Jupyter <a href='command:jupyter.viewOutput'>log</a> for further details."
     ]
    }
   ],
   "source": [
    "import pandas as pd\n",
    "import matplotlib.pyplot as plt\n",
    "\n",
    "def predict(X,m,c):\n",
    "    ''' \n",
    "    Hypothesis function that predict the output based on the input features X,\n",
    "    and the parameters m (slops) and c (intercept).\n",
    "    '''\n",
    "    return(m*x+c for x in X)\n",
    "\n",
    "def compute_mse(X,y,m,c):\n",
    "    ''' \n",
    "    compute the mean squareed error(MSE) between the predicted value and actual values.\n",
    "    MSE is the average of the squared differences between predicted and actual values.\n",
    "\n",
    "    '''\n",
    "    predictions=predict(X,m,c)\n",
    "    error= sum((p*y_i)**2 for p,y_i in zip(predictions,y))\n",
    "    return error/len(y)\n",
    "\n",
    "def numerical_gradient(x,y,m,c,h=1e-5):\n",
    "    '''\n",
    "    compute the numerical gradients for the MEan squared Error (MSE) \n",
    "    with respect to the parameters m and c using the first principles of derivatives.\n",
    "    The gradient is approximated by perturbing the parameters slightly and calculating\n",
    "    the difference in the cost function.\n",
    "\n",
    "    '''\n",
    "    initial_cost=compute_mse(X,y,m,c)\n",
    "    # perturb m slightly to computer the gradient w.r.t m\n",
    "    m_perturbed=m+h\n",
    "    cost_m_perturbed=compute_mse(X,y,m_perturbed,c)\n",
    "    dm=(cost_m_perturbed - initial_cost)/h\n",
    "    # perturb C slightly to compute the gradient w.r.t c\n",
    "    c_perturbed=c+h\n",
    "    cost_c_perturbed=compute_mse(X,y,m,c_perturbed)\n",
    "    dc=(cost_c_perturbed-initial_cost)/h\n",
    "\n",
    "    return dm,dc\n",
    "\n",
    "def gradient_descent(X,y,m,c,learning_rate,epochs):\n",
    "    '''\n",
    "    Perform gradient descent optimization to minimize the Mean Square Error.\n",
    "    The function updates the paramenters  m and c iteratively using the computed numerical gradient.\n",
    "\n",
    "    '''\n",
    "\n",
    "    errors = []\n",
    "    for epoch in range(epochs):\n",
    "        for i in range(len(X)):\n",
    "            dm,dc=numerical_gradient(X,y,m,c)\n",
    "            m -=learning_rate * dm\n",
    "            c -= learning_rate * dc\n",
    "        cost =compute_mse(X,y,m,c)\n",
    "        errors.append(cost)\n",
    "        if epoch %10 == 0:\n",
    "            print(f\"Epoch{epoch}:MSE={cost}\")\n",
    "    return m,c,errors\n",
    "\n",
    "def compute_R_squared(m,c,X,Y):\n",
    "    Y_mean=sum(Y)/len(Y)\n",
    "    y_predict=[m*i+c for i in X]\n",
    "    \n",
    "    num=0\n",
    "    den=0\n",
    "    for i in range(len(X)):\n",
    "        num=num+(Y[i]-y_predict[i])**2\n",
    "        den=(Y[i]-Y_mean)**2\n",
    "    \n",
    "        ##################\n",
    "\n",
    "    R_squared=1-(num/den)\n",
    "    return R_squared\n",
    "\n",
    "\n",
    "    \n",
    "\n",
    "data_frame=pd.read_csv(r'C:\\python data science\\data_visualization\\Student_score.csv')\n",
    "X=data_frame['Hour'].to_list()\n",
    "y=data_frame['Score'].to_list()\n",
    "X=[float(i) for i in X]\n",
    "y=[float(i) for i in y]\n",
    "\n",
    "m=5.0\n",
    "c=3.0\n",
    "learning_rate=0.01\n",
    "epochs=100\n",
    "\n",
    "m,c,errors =gradient_descent(X,y,m,c,learning_rate,epochs)\n",
    "print(f\"m = {m}, c = {c}\")\n",
    "\n",
    "print(f\"Final MSE = {compute_mse(X, y, m, c)}\")\n",
    "print(errors)\n",
    "# Plot the error function over the epochs\n",
    "plt.plot(errors)\n",
    "plt.xlabel('Epochs')\n",
    "plt.ylabel('Mean Squared Error')\n",
    "plt.title('Error Function over Epochs')\n",
    "plt.show()\n",
    "\n",
    "print(compute_R_squared(m,c,X,y))"
   ]
  },
  {
   "cell_type": "markdown",
   "metadata": {},
   "source": [
    "<h2>R square Method"
   ]
  },
  {
   "cell_type": "code",
   "execution_count": 9,
   "metadata": {},
   "outputs": [
    {
     "ename": "NameError",
     "evalue": "name 'Y' is not defined",
     "output_type": "error",
     "traceback": [
      "\u001b[1;31m---------------------------------------------------------------------------\u001b[0m",
      "\u001b[1;31mNameError\u001b[0m                                 Traceback (most recent call last)",
      "Cell \u001b[1;32mIn[9], line 18\u001b[0m\n\u001b[0;32m     15\u001b[0m     R_squared\u001b[38;5;241m=\u001b[39m\u001b[38;5;241m1\u001b[39m\u001b[38;5;241m-\u001b[39m(num\u001b[38;5;241m/\u001b[39mden)\n\u001b[0;32m     16\u001b[0m     \u001b[38;5;28;01mreturn\u001b[39;00m R_squared\n\u001b[1;32m---> 18\u001b[0m \u001b[38;5;28mprint\u001b[39m(compute_R_squared(m,c,X,\u001b[43mY\u001b[49m))\n",
      "\u001b[1;31mNameError\u001b[0m: name 'Y' is not defined"
     ]
    }
   ],
   "source": [
    "def compute_R_squared(m,c,X,Y):\n",
    "    Y_mean=sum(Y)/len(Y)\n",
    "    y_predict=[m*i+c for i in X]\n",
    "    \n",
    "    num=0\n",
    "    den=0\n",
    "    for i in range(len(X)):\n",
    "        num=num+(Y[i]-y_predict[i])**2\n",
    "        den=(Y[i]-Y_mean)**2\n",
    "    \n",
    "        ##################\n",
    "\n",
    "    R_squared=1-(num/den)\n",
    "    return R_squared\n",
    "\n",
    "print(compute_R_squared(m,c,X,Y))"
   ]
  }
 ],
 "metadata": {
  "kernelspec": {
   "display_name": "Python 3",
   "language": "python",
   "name": "python3"
  },
  "language_info": {
   "codemirror_mode": {
    "name": "ipython",
    "version": 3
   },
   "file_extension": ".py",
   "mimetype": "text/x-python",
   "name": "python",
   "nbconvert_exporter": "python",
   "pygments_lexer": "ipython3",
   "version": "3.12.4"
  }
 },
 "nbformat": 4,
 "nbformat_minor": 2
}
