{
 "cells": [
  {
   "cell_type": "code",
   "execution_count": 10,
   "metadata": {},
   "outputs": [
    {
     "name": "stdout",
     "output_type": "stream",
     "text": [
      "Case 1 (Unique solution):\n",
      "[ 2.  3. -1.]\n",
      "\n",
      "Case 2 (Infinite solutions):\n",
      "Infinite solutions\n",
      "\n",
      "Case 3 (No solution):\n",
      "No solution\n"
     ]
    },
    {
     "ename": "",
     "evalue": "",
     "output_type": "error",
     "traceback": [
      "\u001b[1;31mThe Kernel crashed while executing code in the current cell or a previous cell. \n",
      "\u001b[1;31mPlease review the code in the cell(s) to identify a possible cause of the failure. \n",
      "\u001b[1;31mClick <a href='https://aka.ms/vscodeJupyterKernelCrash'>here</a> for more info. \n",
      "\u001b[1;31mView Jupyter <a href='command:jupyter.viewOutput'>log</a> for further details."
     ]
    }
   ],
   "source": [
    "import numpy as np\n",
    "\n",
    "def gauss_jordan(A, b):\n",
    "    A = A.astype(float)\n",
    "    b = b.astype(float)\n",
    "    n = len(b)\n",
    "    # Augment the matrix A with vector b\n",
    "    Ab = np.column_stack((A, b))\n",
    "\n",
    "    for i in range(n):\n",
    "        # Find pivot\n",
    "        max_element = abs(Ab[i][i])\n",
    "        max_row = i\n",
    "        for k in range(i + 1, n):\n",
    "            if abs(Ab[k][i]) > max_element:\n",
    "                max_element = abs(Ab[k][i])\n",
    "                max_row = k\n",
    "\n",
    "        # Swap maximum row with current row\n",
    "        Ab[[i, max_row]] = Ab[[max_row, i]]\n",
    "\n",
    "        # Make the pivot 1\n",
    "        pivot = Ab[i][i]\n",
    "        if pivot == 0:\n",
    "            continue  # Skip if the pivot is zero\n",
    "\n",
    "        Ab[i] = Ab[i] / pivot\n",
    "\n",
    "        # Make all rows below and above this one 0 in current column\n",
    "        for k in range(n):\n",
    "            if k != i:\n",
    "                c = -Ab[k][i]\n",
    "                Ab[k] += c * Ab[i]\n",
    "\n",
    "    # Check for no solution or infinite solutions\n",
    "    for i in range(n):\n",
    "        if Ab[i][i] == 0 and Ab[i][-1] != 0:\n",
    "            return \"No solution\"\n",
    "        elif Ab[i][i] == 0 and Ab[i][-1] == 0:\n",
    "            return \"Infinite solutions\"\n",
    "\n",
    "    # Extract solution\n",
    "    x = Ab[:, -1]\n",
    "    return x\n",
    "\n",
    "# Test cases\n",
    "def test_gauss_jordan():\n",
    "    # Case 1: Unique solution\n",
    "    A1 = np.array([[2, 1, -1],\n",
    "                   [-3, -1, 2],\n",
    "                   [-2, 1, 2]], dtype=float)\n",
    "    b1 = np.array([8, -11, -3], dtype=float)\n",
    "    print(\"Case 1 (Unique solution):\")\n",
    "    print(gauss_jordan(A1, b1))\n",
    "\n",
    "    # Case 2: Infinite solutions\n",
    "    A2 = np.array([[1, 2, 3],\n",
    "                   [2, 4, 6],\n",
    "                   [1, 2, 3]], dtype=float)\n",
    "    b2 = np.array([6, 12, 6], dtype=float)\n",
    "    print(\"\\nCase 2 (Infinite solutions):\")\n",
    "    print(gauss_jordan(A2, b2))\n",
    "\n",
    "    # Case 3: No solution\n",
    "    A3 = np.array([[1, -1, 1],\n",
    "                   [-3, 5, 3],\n",
    "                   [2, -1, 5]], dtype=float)\n",
    "    b3 = np.array([1, 7, 4], dtype=float)\n",
    "    print(\"\\nCase 3 (No solution):\")\n",
    "    print(gauss_jordan(A3, b3))\n",
    "\n",
    "test_gauss_jordan()\n"
   ]
  }
 ],
 "metadata": {
  "kernelspec": {
   "display_name": "Python 3",
   "language": "python",
   "name": "python3"
  },
  "language_info": {
   "codemirror_mode": {
    "name": "ipython",
    "version": 3
   },
   "file_extension": ".py",
   "mimetype": "text/x-python",
   "name": "python",
   "nbconvert_exporter": "python",
   "pygments_lexer": "ipython3",
   "version": "3.12.4"
  }
 },
 "nbformat": 4,
 "nbformat_minor": 2
}
