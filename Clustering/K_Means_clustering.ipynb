{
 "cells": [
  {
   "cell_type": "markdown",
   "metadata": {},
   "source": [
    "<h3>K.Means Algorithm\n",
    "Clustering is adifferent branch of Machine Learning in general that falls under unsupervised learning where labels are not present in the dataset and a pattern of similarly identifiable datapoints are considered as new clusters/classes purely on the basis of datapoints similarity with each other"
   ]
  },
  {
   "cell_type": "markdown",
   "metadata": {},
   "source": [
    "<h3>0. Installing Dependencies"
   ]
  },
  {
   "cell_type": "code",
   "execution_count": 1,
   "metadata": {},
   "outputs": [
    {
     "name": "stdout",
     "output_type": "stream",
     "text": [
      "Requirement already satisfied: pandas in c:\\users\\user\\appdata\\local\\programs\\python\\python312\\lib\\site-packages (2.2.2)\n",
      "Requirement already satisfied: numpy>=1.26.0 in c:\\users\\user\\appdata\\local\\programs\\python\\python312\\lib\\site-packages (from pandas) (1.26.4)\n",
      "Requirement already satisfied: python-dateutil>=2.8.2 in c:\\users\\user\\appdata\\local\\programs\\python\\python312\\lib\\site-packages (from pandas) (2.9.0.post0)\n",
      "Requirement already satisfied: pytz>=2020.1 in c:\\users\\user\\appdata\\local\\programs\\python\\python312\\lib\\site-packages (from pandas) (2024.1)\n",
      "Requirement already satisfied: tzdata>=2022.7 in c:\\users\\user\\appdata\\local\\programs\\python\\python312\\lib\\site-packages (from pandas) (2024.1)\n",
      "Requirement already satisfied: six>=1.5 in c:\\users\\user\\appdata\\local\\programs\\python\\python312\\lib\\site-packages (from python-dateutil>=2.8.2->pandas) (1.16.0)\n"
     ]
    },
    {
     "name": "stderr",
     "output_type": "stream",
     "text": [
      "\n",
      "[notice] A new release of pip is available: 24.0 -> 24.1.1\n",
      "[notice] To update, run: python.exe -m pip install --upgrade pip\n"
     ]
    },
    {
     "name": "stdout",
     "output_type": "stream",
     "text": [
      "Requirement already satisfied: numpy in c:\\users\\user\\appdata\\local\\programs\\python\\python312\\lib\\site-packages (1.26.4)\n"
     ]
    },
    {
     "name": "stderr",
     "output_type": "stream",
     "text": [
      "\n",
      "[notice] A new release of pip is available: 24.0 -> 24.1.1\n",
      "[notice] To update, run: python.exe -m pip install --upgrade pip\n"
     ]
    },
    {
     "name": "stdout",
     "output_type": "stream",
     "text": [
      "Requirement already satisfied: matplotlib in c:\\users\\user\\appdata\\local\\programs\\python\\python312\\lib\\site-packages (3.9.0)\n",
      "Requirement already satisfied: contourpy>=1.0.1 in c:\\users\\user\\appdata\\local\\programs\\python\\python312\\lib\\site-packages (from matplotlib) (1.2.1)\n",
      "Requirement already satisfied: cycler>=0.10 in c:\\users\\user\\appdata\\local\\programs\\python\\python312\\lib\\site-packages (from matplotlib) (0.12.1)\n",
      "Requirement already satisfied: fonttools>=4.22.0 in c:\\users\\user\\appdata\\local\\programs\\python\\python312\\lib\\site-packages (from matplotlib) (4.53.0)\n",
      "Requirement already satisfied: kiwisolver>=1.3.1 in c:\\users\\user\\appdata\\local\\programs\\python\\python312\\lib\\site-packages (from matplotlib) (1.4.5)\n",
      "Requirement already satisfied: numpy>=1.23 in c:\\users\\user\\appdata\\local\\programs\\python\\python312\\lib\\site-packages (from matplotlib) (1.26.4)\n",
      "Requirement already satisfied: packaging>=20.0 in c:\\users\\user\\appdata\\roaming\\python\\python312\\site-packages (from matplotlib) (24.1)\n",
      "Requirement already satisfied: pillow>=8 in c:\\users\\user\\appdata\\local\\programs\\python\\python312\\lib\\site-packages (from matplotlib) (10.3.0)\n",
      "Requirement already satisfied: pyparsing>=2.3.1 in c:\\users\\user\\appdata\\local\\programs\\python\\python312\\lib\\site-packages (from matplotlib) (3.1.2)\n",
      "Requirement already satisfied: python-dateutil>=2.7 in c:\\users\\user\\appdata\\local\\programs\\python\\python312\\lib\\site-packages (from matplotlib) (2.9.0.post0)\n",
      "Requirement already satisfied: six>=1.5 in c:\\users\\user\\appdata\\local\\programs\\python\\python312\\lib\\site-packages (from python-dateutil>=2.7->matplotlib) (1.16.0)\n"
     ]
    },
    {
     "name": "stderr",
     "output_type": "stream",
     "text": [
      "\n",
      "[notice] A new release of pip is available: 24.0 -> 24.1.1\n",
      "[notice] To update, run: python.exe -m pip install --upgrade pip\n"
     ]
    },
    {
     "name": "stdout",
     "output_type": "stream",
     "text": [
      "Requirement already satisfied: scikit-learn in c:\\users\\user\\appdata\\local\\programs\\python\\python312\\lib\\site-packages (1.5.1)\n",
      "Requirement already satisfied: numpy>=1.19.5 in c:\\users\\user\\appdata\\local\\programs\\python\\python312\\lib\\site-packages (from scikit-learn) (1.26.4)\n",
      "Requirement already satisfied: scipy>=1.6.0 in c:\\users\\user\\appdata\\local\\programs\\python\\python312\\lib\\site-packages (from scikit-learn) (1.14.0)\n",
      "Requirement already satisfied: joblib>=1.2.0 in c:\\users\\user\\appdata\\local\\programs\\python\\python312\\lib\\site-packages (from scikit-learn) (1.4.2)\n",
      "Requirement already satisfied: threadpoolctl>=3.1.0 in c:\\users\\user\\appdata\\local\\programs\\python\\python312\\lib\\site-packages (from scikit-learn) (3.5.0)\n"
     ]
    },
    {
     "name": "stderr",
     "output_type": "stream",
     "text": [
      "\n",
      "[notice] A new release of pip is available: 24.0 -> 24.1.1\n",
      "[notice] To update, run: python.exe -m pip install --upgrade pip\n"
     ]
    }
   ],
   "source": [
    "\n",
    "! pip install pandas\n",
    "! pip install numpy\n",
    "! pip install matplotlib\n",
    "! pip install -U scikit-learn"
   ]
  },
  {
   "cell_type": "markdown",
   "metadata": {},
   "source": [
    "<h3> Importing Dependencies"
   ]
  },
  {
   "cell_type": "code",
   "execution_count": 3,
   "metadata": {},
   "outputs": [],
   "source": [
    "import pandas as pd\n",
    "from sklearn.cluster import KMeans\n",
    "import numpy as np\n",
    "import os\n",
    "import matplotlib.colors as mcl\n",
    "import random\n",
    "import matplotlib.pyplot as plt\n"
   ]
  },
  {
   "cell_type": "markdown",
   "metadata": {},
   "source": [
    "<h3>3.Creating Dataset\n",
    "Today lets work on an exercise to have N number of students whose name will be"
   ]
  },
  {
   "cell_type": "code",
   "execution_count": null,
   "metadata": {},
   "outputs": [],
   "source": []
  },
  {
   "cell_type": "code",
   "execution_count": 4,
   "metadata": {},
   "outputs": [
    {
     "name": "stdout",
     "output_type": "stream",
     "text": [
      "Saving to 'Dataset 2D'\n",
      "Numpy array:  \n",
      "[[52 83]\n",
      " [53 82]\n",
      " [52 68]\n",
      " [31 83]\n",
      " [77 37]\n",
      " [45 57]\n",
      " [59 38]\n",
      " [56 70]\n",
      " [31 90]\n",
      " [35 98]\n",
      " [54 52]\n",
      " [71 97]\n",
      " [49 57]\n",
      " [71 84]\n",
      " [62 53]\n",
      " [35 66]\n",
      " [65 96]\n",
      " [91 73]\n",
      " [53 38]\n",
      " [91 47]\n",
      " [82 59]\n",
      " [81 94]\n",
      " [98 89]\n",
      " [83 36]\n",
      " [74 61]\n",
      " [69 39]]\n",
      "Data Frame\n"
     ]
    },
    {
     "data": {
      "text/html": [
       "<div>\n",
       "<style scoped>\n",
       "    .dataframe tbody tr th:only-of-type {\n",
       "        vertical-align: middle;\n",
       "    }\n",
       "\n",
       "    .dataframe tbody tr th {\n",
       "        vertical-align: top;\n",
       "    }\n",
       "\n",
       "    .dataframe thead th {\n",
       "        text-align: right;\n",
       "    }\n",
       "</style>\n",
       "<table border=\"1\" class=\"dataframe\">\n",
       "  <thead>\n",
       "    <tr style=\"text-align: right;\">\n",
       "      <th></th>\n",
       "      <th>Student</th>\n",
       "      <th>Math</th>\n",
       "      <th>Science</th>\n",
       "    </tr>\n",
       "  </thead>\n",
       "  <tbody>\n",
       "    <tr>\n",
       "      <th>0</th>\n",
       "      <td>saroj</td>\n",
       "      <td>52</td>\n",
       "      <td>83</td>\n",
       "    </tr>\n",
       "    <tr>\n",
       "      <th>1</th>\n",
       "      <td>niraj</td>\n",
       "      <td>53</td>\n",
       "      <td>82</td>\n",
       "    </tr>\n",
       "    <tr>\n",
       "      <th>2</th>\n",
       "      <td>hemant</td>\n",
       "      <td>52</td>\n",
       "      <td>68</td>\n",
       "    </tr>\n",
       "    <tr>\n",
       "      <th>3</th>\n",
       "      <td>biru</td>\n",
       "      <td>31</td>\n",
       "      <td>83</td>\n",
       "    </tr>\n",
       "    <tr>\n",
       "      <th>4</th>\n",
       "      <td>sajan</td>\n",
       "      <td>77</td>\n",
       "      <td>37</td>\n",
       "    </tr>\n",
       "    <tr>\n",
       "      <th>5</th>\n",
       "      <td>ram</td>\n",
       "      <td>45</td>\n",
       "      <td>57</td>\n",
       "    </tr>\n",
       "    <tr>\n",
       "      <th>6</th>\n",
       "      <td>hari</td>\n",
       "      <td>59</td>\n",
       "      <td>38</td>\n",
       "    </tr>\n",
       "    <tr>\n",
       "      <th>7</th>\n",
       "      <td>bob</td>\n",
       "      <td>56</td>\n",
       "      <td>70</td>\n",
       "    </tr>\n",
       "    <tr>\n",
       "      <th>8</th>\n",
       "      <td>nabin</td>\n",
       "      <td>31</td>\n",
       "      <td>90</td>\n",
       "    </tr>\n",
       "    <tr>\n",
       "      <th>9</th>\n",
       "      <td>nabina</td>\n",
       "      <td>35</td>\n",
       "      <td>98</td>\n",
       "    </tr>\n",
       "    <tr>\n",
       "      <th>10</th>\n",
       "      <td>rupa</td>\n",
       "      <td>54</td>\n",
       "      <td>52</td>\n",
       "    </tr>\n",
       "    <tr>\n",
       "      <th>11</th>\n",
       "      <td>sabina</td>\n",
       "      <td>71</td>\n",
       "      <td>97</td>\n",
       "    </tr>\n",
       "    <tr>\n",
       "      <th>12</th>\n",
       "      <td>fe</td>\n",
       "      <td>49</td>\n",
       "      <td>57</td>\n",
       "    </tr>\n",
       "    <tr>\n",
       "      <th>13</th>\n",
       "      <td>defd</td>\n",
       "      <td>71</td>\n",
       "      <td>84</td>\n",
       "    </tr>\n",
       "    <tr>\n",
       "      <th>14</th>\n",
       "      <td>fasdf</td>\n",
       "      <td>62</td>\n",
       "      <td>53</td>\n",
       "    </tr>\n",
       "    <tr>\n",
       "      <th>15</th>\n",
       "      <td>fasdf</td>\n",
       "      <td>35</td>\n",
       "      <td>66</td>\n",
       "    </tr>\n",
       "    <tr>\n",
       "      <th>16</th>\n",
       "      <td>asfg</td>\n",
       "      <td>65</td>\n",
       "      <td>96</td>\n",
       "    </tr>\n",
       "    <tr>\n",
       "      <th>17</th>\n",
       "      <td>gdfg</td>\n",
       "      <td>91</td>\n",
       "      <td>73</td>\n",
       "    </tr>\n",
       "    <tr>\n",
       "      <th>18</th>\n",
       "      <td>sgf</td>\n",
       "      <td>53</td>\n",
       "      <td>38</td>\n",
       "    </tr>\n",
       "    <tr>\n",
       "      <th>19</th>\n",
       "      <td>fdsaf</td>\n",
       "      <td>91</td>\n",
       "      <td>47</td>\n",
       "    </tr>\n",
       "    <tr>\n",
       "      <th>20</th>\n",
       "      <td>afas</td>\n",
       "      <td>82</td>\n",
       "      <td>59</td>\n",
       "    </tr>\n",
       "    <tr>\n",
       "      <th>21</th>\n",
       "      <td>dsa</td>\n",
       "      <td>81</td>\n",
       "      <td>94</td>\n",
       "    </tr>\n",
       "    <tr>\n",
       "      <th>22</th>\n",
       "      <td>dsda</td>\n",
       "      <td>98</td>\n",
       "      <td>89</td>\n",
       "    </tr>\n",
       "    <tr>\n",
       "      <th>23</th>\n",
       "      <td>dsaf</td>\n",
       "      <td>83</td>\n",
       "      <td>36</td>\n",
       "    </tr>\n",
       "    <tr>\n",
       "      <th>24</th>\n",
       "      <td>dsad</td>\n",
       "      <td>74</td>\n",
       "      <td>61</td>\n",
       "    </tr>\n",
       "    <tr>\n",
       "      <th>25</th>\n",
       "      <td>dadad</td>\n",
       "      <td>69</td>\n",
       "      <td>39</td>\n",
       "    </tr>\n",
       "  </tbody>\n",
       "</table>\n",
       "</div>"
      ],
      "text/plain": [
       "   Student  Math  Science\n",
       "0    saroj    52       83\n",
       "1    niraj    53       82\n",
       "2   hemant    52       68\n",
       "3     biru    31       83\n",
       "4    sajan    77       37\n",
       "5      ram    45       57\n",
       "6     hari    59       38\n",
       "7      bob    56       70\n",
       "8    nabin    31       90\n",
       "9   nabina    35       98\n",
       "10    rupa    54       52\n",
       "11  sabina    71       97\n",
       "12      fe    49       57\n",
       "13    defd    71       84\n",
       "14   fasdf    62       53\n",
       "15   fasdf    35       66\n",
       "16    asfg    65       96\n",
       "17    gdfg    91       73\n",
       "18     sgf    53       38\n",
       "19   fdsaf    91       47\n",
       "20    afas    82       59\n",
       "21     dsa    81       94\n",
       "22    dsda    98       89\n",
       "23    dsaf    83       36\n",
       "24    dsad    74       61\n",
       "25   dadad    69       39"
      ]
     },
     "execution_count": 4,
     "metadata": {},
     "output_type": "execute_result"
    }
   ],
   "source": [
    "def get_dimension():\n",
    "    while True:\n",
    "        dimension=int(input('Enter 2 for 2 Dimension and 3 for 3 dimensions:'))\n",
    "        if dimension==2 or dimension==3:\n",
    "            break\n",
    "        else:\n",
    "            print('Creator\\'s note Please give 2 or 3 as input as it works on these 2 only(for now)\\n')\n",
    "    return dimension\n",
    "def get_topics(dimension):\n",
    "    topics=[]\n",
    "    if dimension==2:\n",
    "        topics=['Math','Science']\n",
    "    else:\n",
    "        topics=['Math','Science','Literature']\n",
    "    \n",
    "    return topics\n",
    "\n",
    "def get_students(number_of_students):\n",
    "    students=[]\n",
    "    for i in range(0,number_of_students):\n",
    "        students.append(input(f'Enter name of the {i+1} student: '))\n",
    "    return students\n",
    "\n",
    "def get_column_name(topics):\n",
    "    columns=['Student']\n",
    "    for i in topics:\n",
    "        columns.append(i)\n",
    "    return columns\n",
    "\n",
    "def get_initial_data_frame(Students,columns):\n",
    "    df=pd.DataFrame(columns=columns)\n",
    "    df['Student']=Students\n",
    "    for i in columns[1:]:\n",
    "        df[i]=[random.randrange(30,100) for number in range(len(Students))]\n",
    "    return df\n",
    "\n",
    "def get_data_frame(number_of_students,dimension):\n",
    "    topics=get_topics(dimension)\n",
    "    students=get_students(number_of_students)\n",
    "    columns=get_column_name(topics)\n",
    "    data_df=get_initial_data_frame(students,columns)\n",
    "    return data_df\n",
    "\n",
    "def saving_dataframe_and_loading_latest_dataframe(data_df):\n",
    "    if len(data_df.columns)==3:\n",
    "        print('Saving to \\'Dataset 2D\\'')\n",
    "        if 'Dataset_2D.csv' in os.listdir(os.getcwd()):\n",
    "            data_df.to_csv('Dataset_2D.csv',mode='a',index=False,header=False)\n",
    "        else:\n",
    "            data_df.to_csv('Dataset_2D.csv',mode='a',index=False,header=True)\n",
    "        \n",
    "        data_df=pd.read_csv('Dataset_2D.csv')\n",
    "    else:\n",
    "        print('Saving to \\'Dataset 3D\\'')\n",
    "        if \"Dataset_3D.csv\" in os.listdir(os.getcwd()):\n",
    "            data_df.to_csv('Dataset_3D.csv',mode='a',index=False,header=False)\n",
    "        else:\n",
    "            data_df.to_csv('Dataset_3D.csv',mode='a',index=False,header=True)\n",
    "        \n",
    "        data_df=pd.read_csv('Dataset_3D.csv')\n",
    "    return data_df\n",
    "\n",
    "\n",
    "dimension=get_dimension()\n",
    "number_of_students=int(input('Enter number of students to work with: '))\n",
    "\n",
    "data_df=get_data_frame(number_of_students,dimension)\n",
    "data_df=saving_dataframe_and_loading_latest_dataframe(data_df)\n",
    "\n",
    "print('Numpy array:  ')\n",
    "data_np=(data_df.drop(columns=['Student'])).to_numpy()\n",
    "print(data_np)\n",
    "print('Data Frame')\n",
    "data_df\n",
    "\n",
    "\n"
   ]
  },
  {
   "cell_type": "code",
   "execution_count": null,
   "metadata": {},
   "outputs": [],
   "source": []
  },
  {
   "cell_type": "markdown",
   "metadata": {},
   "source": [
    "<h3>3.K means clustering"
   ]
  },
  {
   "cell_type": "code",
   "execution_count": 5,
   "metadata": {},
   "outputs": [],
   "source": [
    "clustering_model=KMeans(n_clusters=5).fit(data_np)\n",
    "cluster_op=clustering_model.predict(data_np)\n",
    "data_df['Clusters']=cluster_op\n",
    "data_df.to_csv('output.csv',index=False)"
   ]
  },
  {
   "cell_type": "markdown",
   "metadata": {},
   "source": [
    "<h3> Plotting Cluster Graphs<br>\n",
    "Now we will plotes the clusters at with fifferent colors"
   ]
  },
  {
   "cell_type": "code",
   "execution_count": null,
   "metadata": {},
   "outputs": [],
   "source": []
  },
  {
   "cell_type": "markdown",
   "metadata": {},
   "source": [
    "<h3> 4. Plooting Cluster<br>\n",
    "Now we will plots the clusters at with different colors"
   ]
  },
  {
   "cell_type": "code",
   "execution_count": 6,
   "metadata": {},
   "outputs": [],
   "source": [
    "def plot_all(topics,data_df,color_list,flag):\n",
    "    if flag==3:\n",
    "        fig=plt.figure()\n",
    "        ax=fig.add_subplot(projection='3d')\n",
    "\n",
    "    for i in range(data_df.shape[0]):\n",
    "        c=data_df.at[i,'Clusters']\n",
    "        x_pt=data_df.at[i,topics[0]]\n",
    "        y_pt=data_df.at[i,topics[1]]\n",
    "        if flag==3:\n",
    "            z_pt=data_df.at[i,topics[2]]\n",
    "            ax.scatter(x_pt,y_pt,z_pt,color=color_list[c])\n",
    "        else:\n",
    "            plt.scatter(x=x_pt,y=y_pt,color=color_list[c])\n",
    "            \n"
   ]
  },
  {
   "cell_type": "code",
   "execution_count": 7,
   "metadata": {},
   "outputs": [
    {
     "data": {
      "image/png": "[encoded data removed]",
      "text/plain": [
       "<Figure size 640x480 with 1 Axes>"
      ]
     },
     "metadata": {},
     "output_type": "display_data"
    }
   ],
   "source": [
    "topics=get_topics(len(data_df.columns)-2)\n",
    "color_list=list(mcl.BASE_COLORS.values())\n",
    "\n",
    "if len(topics)==2:\n",
    "    plot_all(topics,data_df,color_list,2)\n",
    "else:\n",
    "    plot_all(topics,data_df,color_list,3)"
   ]
  },
  {
   "cell_type": "markdown",
   "metadata": {},
   "source": [
    "ALGO MEthod\n",
    "Reinforcement learning\n"
   ]
  },
  {
   "cell_type": "code",
   "execution_count": null,
   "metadata": {},
   "outputs": [],
   "source": []
  }
 ],
 "metadata": {
  "kernelspec": {
   "display_name": "Python 3",
   "language": "python",
   "name": "python3"
  },
  "language_info": {
   "codemirror_mode": {
    "name": "ipython",
    "version": 3
   },
   "file_extension": ".py",
   "mimetype": "text/x-python",
   "name": "python",
   "nbconvert_exporter": "python",
   "pygments_lexer": "ipython3",
   "version": "3.12.4"
  }
 },
 "nbformat": 4,
 "nbformat_minor": 2
}
