{
 "cells": [
  {
   "cell_type": "code",
   "execution_count": 2,
   "metadata": {},
   "outputs": [
    {
     "name": "stdout",
     "output_type": "stream",
     "text": [
      "The solution is: [ 1. -1.  5.]\n"
     ]
    }
   ],
   "source": [
    "import numpy as np\n",
    "#GAuss Jordon task\n",
    "def gauss_elimination(a, b):\n",
    "    \"\"\"\n",
    "    Solves the system of linear equations Ax = b using Gauss elimination method.\n",
    "    a: Coefficient matrix (3x3)\n",
    "    b: Constant matrix (3x1)\n",
    "    \"\"\"\n",
    "    # Number of variables\n",
    "    n = len(b)\n",
    "    \n",
    "    # Forward elimination\n",
    "    for i in range(n):\n",
    "        # Make sure the pivot element is not zero by row swapping if necessary\n",
    "        if a[i][i] == 0:\n",
    "            for k in range(i+1, n):\n",
    "                if a[k][i] != 0:\n",
    "                    a[[i, k]] = a[[k, i]] #If a non-zero element is found, swap the current row i with row k in both matrix a and vector b\n",
    "                    b[i], b[k] = b[k], b[i]\n",
    "                    break\n",
    "            else:\n",
    "                raise ValueError(\"Matrix is singular or nearly singular\")\n",
    "\n",
    "        # Make the diagonal contain all ones\n",
    "        #Normalizing the Pivot Row\n",
    "\n",
    "        factor = a[i][i]\n",
    "        for j in range(i, n):\n",
    "            a[i][j] = a[i][j] / factor\n",
    "        b[i] = b[i] / factor\n",
    "\n",
    "        # Make the elements below the pivot positions zero\n",
    "        for k in range(i+1, n):\n",
    "            factor = a[k][i]\n",
    "            for j in range(i, n):\n",
    "                a[k][j] = a[k][j] - factor * a[i][j]\n",
    "            b[k] = b[k] - factor * b[i]\n",
    "\n",
    "    # Backward substitution\n",
    "    x = np.zeros(n)\n",
    "    for i in range(n-1, -1, -1):\n",
    "        x[i] = b[i]\n",
    "        for j in range(i+1, n):\n",
    "            x[i] = x[i] - a[i][j] * x[j]\n",
    "\n",
    "    return x\n",
    "\n",
    "# Example usage\n",
    "a = np.array([[-1.0, 4.0,-2.0],\n",
    "              [-4.0, 6.0, 1.0],\n",
    "              [-6.0, -6.0, -2.0]])\n",
    "\n",
    "b = np.array([-15.0, -5.0, -10.0])\n",
    "\n",
    "solution = gauss_elimination(a, b)\n",
    "print(\"The solution is:\", solution)\n"
   ]
  }
 ],
 "metadata": {
  "kernelspec": {
   "display_name": "Python 3",
   "language": "python",
   "name": "python3"
  },
  "language_info": {
   "codemirror_mode": {
    "name": "ipython",
    "version": 3
   },
   "file_extension": ".py",
   "mimetype": "text/x-python",
   "name": "python",
   "nbconvert_exporter": "python",
   "pygments_lexer": "ipython3",
   "version": "3.12.4"
  }
 },
 "nbformat": 4,
 "nbformat_minor": 2
}
