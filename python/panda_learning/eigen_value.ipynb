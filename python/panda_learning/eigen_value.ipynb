{
 "cells": [
  {
   "cell_type": "code",
   "execution_count": 2,
   "metadata": {},
   "outputs": [
    {
     "name": "stdout",
     "output_type": "stream",
     "text": [
      "Enter the elements row by row (space-separated):\n",
      "The largest eigenvalue is: 13.403124237931701\n",
      "The corresponding eigenvector is: [0.52416603 0.53452248 0.66297488]\n"
     ]
    }
   ],
   "source": [
    "import numpy as np\n",
    "\n",
    "def power_method(A, num_iterations: int = 100, tolerance: float = 1e-9):\n",
    "    n, m = A.shape\n",
    "    if n != m:\n",
    "        raise ValueError(\"Matrix must be square\")\n",
    "\n",
    "    # Start with a random vector of appropriate length\n",
    "    b_k = np.random.rand(n)\n",
    "\n",
    "    # Normalize the initial vector using np.linalg.norm\n",
    "    b_k /= np.linalg.norm(b_k)\n",
    "\n",
    "    for _ in range(num_iterations):\n",
    "        # Calculate the matrix-by-vector product Ab\n",
    "        b_k1 = np.dot(A, b_k)\n",
    "        \n",
    "        # Calculate the norm of the new vector\n",
    "        b_k1_norm = np.linalg.norm(b_k1)\n",
    "        \n",
    "        # Re-normalize the vector\n",
    "        b_k = b_k1 / b_k1_norm\n",
    "\n",
    "        # Check for convergence\n",
    "        residual = np.linalg.norm(np.dot(A, b_k) - b_k1_norm * b_k)\n",
    "        if residual < tolerance:\n",
    "            break\n",
    "\n",
    "    eigenvalue = b_k1_norm\n",
    "    eigenvector = b_k\n",
    "    return eigenvalue, eigenvector\n",
    "\n",
    "# Function to take user input for the matrix\n",
    "def get_matrix_from_user():\n",
    "    n = int(input(\"Enter the order of the square matrix: \"))\n",
    "    A = []\n",
    "    print(\"Enter the elements row by row (space-separated):\")\n",
    "    for i in range(n):\n",
    "        row = list(map(float, input(f\"Row {i+1}: \").split()))\n",
    "        A.append(row)\n",
    "    return np.array(A)\n",
    "\n",
    "# Main function to execute the power method with user input\n",
    "def main():\n",
    "    A = get_matrix_from_user()\n",
    "    eigenvalue, eigenvector = power_method(A)\n",
    "    print(\"The largest eigenvalue is:\", eigenvalue)\n",
    "    print(\"The corresponding eigenvector is:\", eigenvector)\n",
    "\n",
    "if __name__ == \"__main__\":\n",
    "    main()\n"
   ]
  },
  {
   "cell_type": "code",
   "execution_count": 5,
   "metadata": {},
   "outputs": [
    {
     "name": "stdout",
     "output_type": "stream",
     "text": [
      "[4.02492236 2.23606798]\n",
      "4.604345773288535\n",
      "[4.02492236 2.23606798]\n",
      "[4.11825206 2.05912603]\n",
      "Residual: 0.20004720879201343\n"
     ]
    }
   ],
   "source": [
    "import numpy as np\n",
    "\n",
    "# Define a matrix A\n",
    "A = np.array([[4, 1], [1, 3]])\n",
    "\n",
    "# Define an approximate eigenvector b_k\n",
    "b_k = np.array([1, 0.5])\n",
    "b_k = b_k / np.linalg.norm(b_k)  # Normalize the vector\n",
    "\n",
    "# Calculate the norm of the new vector (assuming this is the eigenvalue)\n",
    "b_k1_norm = np.linalg.norm(np.dot(A, b_k))\n",
    "print(np.dot(A, b_k))\n",
    "print(b_k1_norm)\n",
    "\n",
    "# Calculate the residual\n",
    "print(np.dot(A, b_k))\n",
    "print(b_k1_norm * b_k)\n",
    "residual = np.linalg.norm(np.dot(A, b_k) - b_k1_norm * b_k)\n",
    "\n",
    "print(\"Residual:\", residual)\n"
   ]
  }
 ],
 "metadata": {
  "kernelspec": {
   "display_name": "Python 3",
   "language": "python",
   "name": "python3"
  },
  "language_info": {
   "codemirror_mode": {
    "name": "ipython",
    "version": 3
   },
   "file_extension": ".py",
   "mimetype": "text/x-python",
   "name": "python",
   "nbconvert_exporter": "python",
   "pygments_lexer": "ipython3",
   "version": "3.12.4"
  }
 },
 "nbformat": 4,
 "nbformat_minor": 2
}
