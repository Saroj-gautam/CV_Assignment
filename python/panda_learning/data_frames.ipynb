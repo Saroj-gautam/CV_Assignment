{
 "cells": [
  {
   "cell_type": "markdown",
   "metadata": {},
   "source": [
    "## DATA frame understanding\n",
    "\n",
    "\n"
   ]
  },
  {
   "cell_type": "code",
   "execution_count": 3,
   "metadata": {},
   "outputs": [
    {
     "data": {
      "text/plain": [
       "11"
      ]
     },
     "execution_count": 3,
     "metadata": {},
     "output_type": "execute_result"
    }
   ],
   "source": [
    "a=5\n",
    "b=6\n",
    "a+b\n"
   ]
  },
  {
   "cell_type": "code",
   "execution_count": 4,
   "metadata": {},
   "outputs": [
    {
     "name": "stdout",
     "output_type": "stream",
     "text": [
      "[5, 6]\n",
      "5.5\n"
     ]
    }
   ],
   "source": [
    "def get_avg(*args):\n",
    "    args=list(args)\n",
    "    return sum(args)/len(args)\n",
    "\n",
    "list_num=[]\n",
    "n=int(input(\"how many number:\"))\n",
    "for i in range(n):\n",
    "    a=int(input(\"enter a number{i}:\"))\n",
    "    list_num.append(a)\n",
    "print(list_num)\n",
    "avg=get_avg(*list_num)\n",
    "print(avg)\n"
   ]
  },
  {
   "cell_type": "code",
   "execution_count": null,
   "metadata": {},
   "outputs": [],
   "source": []
  },
  {
   "cell_type": "markdown",
   "metadata": {},
   "source": [
    "## data frame Understanding frame\n"
   ]
  },
  {
   "cell_type": "code",
   "execution_count": 3,
   "metadata": {},
   "outputs": [
    {
     "data": {
      "text/html": [
       "<div>\n",
       "<style scoped>\n",
       "    .dataframe tbody tr th:only-of-type {\n",
       "        vertical-align: middle;\n",
       "    }\n",
       "\n",
       "    .dataframe tbody tr th {\n",
       "        vertical-align: top;\n",
       "    }\n",
       "\n",
       "    .dataframe thead th {\n",
       "        text-align: right;\n",
       "    }\n",
       "</style>\n",
       "<table border=\"1\" class=\"dataframe\">\n",
       "  <thead>\n",
       "    <tr style=\"text-align: right;\">\n",
       "      <th></th>\n",
       "      <th>SN</th>\n",
       "      <th>Name</th>\n",
       "      <th>score</th>\n",
       "      <th>New_Colume</th>\n",
       "    </tr>\n",
       "  </thead>\n",
       "  <tbody>\n",
       "    <tr>\n",
       "      <th>0</th>\n",
       "      <td>1</td>\n",
       "      <td>A</td>\n",
       "      <td>1</td>\n",
       "      <td>1</td>\n",
       "    </tr>\n",
       "    <tr>\n",
       "      <th>1</th>\n",
       "      <td>2</td>\n",
       "      <td>B</td>\n",
       "      <td>2</td>\n",
       "      <td>4</td>\n",
       "    </tr>\n",
       "    <tr>\n",
       "      <th>2</th>\n",
       "      <td>3</td>\n",
       "      <td>C</td>\n",
       "      <td>4</td>\n",
       "      <td>3</td>\n",
       "    </tr>\n",
       "    <tr>\n",
       "      <th>3</th>\n",
       "      <td>4</td>\n",
       "      <td>D</td>\n",
       "      <td>5</td>\n",
       "      <td>6</td>\n",
       "    </tr>\n",
       "    <tr>\n",
       "      <th>4</th>\n",
       "      <td>5</td>\n",
       "      <td>E</td>\n",
       "      <td>2</td>\n",
       "      <td>8</td>\n",
       "    </tr>\n",
       "  </tbody>\n",
       "</table>\n",
       "</div>"
      ],
      "text/plain": [
       "   SN Name  score  New_Colume\n",
       "0   1    A      1           1\n",
       "1   2    B      2           4\n",
       "2   3    C      4           3\n",
       "3   4    D      5           6\n",
       "4   5    E      2           8"
      ]
     },
     "metadata": {},
     "output_type": "display_data"
    }
   ],
   "source": [
    "import pandas as pd\n",
    "student_data=pd.DataFrame(columns=['SN','Name','score'])\n",
    "student_data['SN']=[1,2,3,4,5]\n",
    "student_data['Name']=['A','B','C','D','E']\n",
    "student_data['score']=[1,2,4,5,2]\n",
    "student_data['New_Colume']=[1,4,3,6,8]\n",
    "display(student_data)"
   ]
  },
  {
   "cell_type": "code",
   "execution_count": 17,
   "metadata": {},
   "outputs": [
    {
     "data": {
      "text/html": [
       "<div>\n",
       "<style scoped>\n",
       "    .dataframe tbody tr th:only-of-type {\n",
       "        vertical-align: middle;\n",
       "    }\n",
       "\n",
       "    .dataframe tbody tr th {\n",
       "        vertical-align: top;\n",
       "    }\n",
       "\n",
       "    .dataframe thead th {\n",
       "        text-align: right;\n",
       "    }\n",
       "</style>\n",
       "<table border=\"1\" class=\"dataframe\">\n",
       "  <thead>\n",
       "    <tr style=\"text-align: right;\">\n",
       "      <th></th>\n",
       "      <th>Student Name</th>\n",
       "      <th>Score</th>\n",
       "      <th>result</th>\n",
       "    </tr>\n",
       "  </thead>\n",
       "  <tbody>\n",
       "    <tr>\n",
       "      <th>0</th>\n",
       "      <td>saroj</td>\n",
       "      <td>55</td>\n",
       "      <td>passed</td>\n",
       "    </tr>\n",
       "    <tr>\n",
       "      <th>1</th>\n",
       "      <td>ram</td>\n",
       "      <td>12</td>\n",
       "      <td>failed</td>\n",
       "    </tr>\n",
       "  </tbody>\n",
       "</table>\n",
       "</div>"
      ],
      "text/plain": [
       "  Student Name Score  result\n",
       "0        saroj    55  passed\n",
       "1          ram    12  failed"
      ]
     },
     "metadata": {},
     "output_type": "display_data"
    }
   ],
   "source": [
    "list_studentNAme=[]\n",
    "list_Score=[]\n",
    "list_result=[]\n",
    "n=int(input(\"enter numnber of student:\"))\n",
    "\n",
    "for i in range (0,n):\n",
    "    name=input(\"enter a name of student:\")\n",
    "    list_studentNAme.append(name)\n",
    "    score=input(\"enter score of student:\")\n",
    "    list_Score.append(score)\n",
    "    a=int(score)\n",
    "    if a>=32:\n",
    "        list_result.append(\"passed\")\n",
    "    else:\n",
    "        list_result.append(\"failed\")\n",
    "\n",
    "student_data=pd.DataFrame(columns=['Student Name','Score','result'])\n",
    "student_data['Student Name']=list_studentNAme\n",
    "student_data['Score']=list_Score\n",
    "student_data['result']=list_result\n",
    "\n",
    "\n",
    "display(student_data)\n"
   ]
  },
  {
   "cell_type": "markdown",
   "metadata": {},
   "source": [
    "LOC"
   ]
  },
  {
   "cell_type": "code",
   "execution_count": 12,
   "metadata": {},
   "outputs": [
    {
     "name": "stdout",
     "output_type": "stream",
     "text": [
      "1718522249.2818687\n",
      "Total time taken 0.0\n",
      "0.0003960999893024564\n",
      "['A', 'E']\n"
     ]
    }
   ],
   "source": [
    "import pandas as pd\n",
    "import time\n",
    "from timeit import default_timer as Timer\n",
    "data_frame_new=pd.DataFrame({'NAME':['A','B','C','F','E','F','G'],\n",
    "                             'MARK':[10,33,44,55,22,44,55]})\n",
    "data_frame_new\n",
    "marks_column_list=data_frame_new['MARK'].tolist()\n",
    "name_column_list=data_frame_new['NAME'].tolist()\n",
    "failed_student=[]\n",
    "start_time=time.time()\n",
    "start=Timer()\n",
    "print(start_time)\n",
    "for i in range(len(marks_column_list)):\n",
    "    if marks_column_list[i]<32:\n",
    "        failed_student.append(name_column_list[i])\n",
    "end_time=time.time()\n",
    "end=Timer()\n",
    "\n",
    "print(f'Total time taken {end_time-start_time}')\n",
    "print(end - start)\n",
    "print(failed_student)"
   ]
  },
  {
   "cell_type": "code",
   "execution_count": 28,
   "metadata": {},
   "outputs": [
    {
     "data": {
      "text/html": [
       "<div>\n",
       "<style scoped>\n",
       "    .dataframe tbody tr th:only-of-type {\n",
       "        vertical-align: middle;\n",
       "    }\n",
       "\n",
       "    .dataframe tbody tr th {\n",
       "        vertical-align: top;\n",
       "    }\n",
       "\n",
       "    .dataframe thead th {\n",
       "        text-align: right;\n",
       "    }\n",
       "</style>\n",
       "<table border=\"1\" class=\"dataframe\">\n",
       "  <thead>\n",
       "    <tr style=\"text-align: right;\">\n",
       "      <th></th>\n",
       "      <th>NAME</th>\n",
       "      <th>MARK</th>\n",
       "    </tr>\n",
       "  </thead>\n",
       "  <tbody>\n",
       "    <tr>\n",
       "      <th>1</th>\n",
       "      <td>B</td>\n",
       "      <td>20</td>\n",
       "    </tr>\n",
       "    <tr>\n",
       "      <th>2</th>\n",
       "      <td>C</td>\n",
       "      <td>30</td>\n",
       "    </tr>\n",
       "  </tbody>\n",
       "</table>\n",
       "</div>"
      ],
      "text/plain": [
       "  NAME  MARK\n",
       "1    B    20\n",
       "2    C    30"
      ]
     },
     "metadata": {},
     "output_type": "display_data"
    },
    {
     "name": "stdout",
     "output_type": "stream",
     "text": [
      "0.012538600014522672\n"
     ]
    }
   ],
   "source": [
    "import pandas as pd\n",
    "import time\n",
    "from timeit import default_timer as Timer\n",
    "data_frame_new=pd.DataFrame({'NAME':['A','B','C','F','E','F','G'],\n",
    "                             'MARK':[10,20,30,40,50,60,70]})\n",
    "start_time=Timer()\n",
    "display(data_frame_new.loc[(data_frame_new['MARK']<32) & (data_frame_new['NAME']!='A')])  #loc=locate\n",
    "#display(data_frame_new.loc[data_frame_new['NAME'] !='A'])\n",
    "#data_frame_new['NAME'].loc[data_frame_new['MARK']<32]   #loc=locate\n",
    "end_time=Timer()\n",
    "print(end_time-start_time)\n",
    "display(data_frame_new)"
   ]
  },
  {
   "cell_type": "markdown",
   "metadata": {},
   "source": [
    "ILOC  =index locate work in row"
   ]
  },
  {
   "cell_type": "code",
   "execution_count": 29,
   "metadata": {},
   "outputs": [
    {
     "data": {
      "text/html": [
       "<div>\n",
       "<style scoped>\n",
       "    .dataframe tbody tr th:only-of-type {\n",
       "        vertical-align: middle;\n",
       "    }\n",
       "\n",
       "    .dataframe tbody tr th {\n",
       "        vertical-align: top;\n",
       "    }\n",
       "\n",
       "    .dataframe thead th {\n",
       "        text-align: right;\n",
       "    }\n",
       "</style>\n",
       "<table border=\"1\" class=\"dataframe\">\n",
       "  <thead>\n",
       "    <tr style=\"text-align: right;\">\n",
       "      <th></th>\n",
       "      <th>NAME</th>\n",
       "      <th>MARK</th>\n",
       "    </tr>\n",
       "  </thead>\n",
       "  <tbody>\n",
       "    <tr>\n",
       "      <th>0</th>\n",
       "      <td>A</td>\n",
       "      <td>10</td>\n",
       "    </tr>\n",
       "    <tr>\n",
       "      <th>1</th>\n",
       "      <td>B</td>\n",
       "      <td>20</td>\n",
       "    </tr>\n",
       "    <tr>\n",
       "      <th>2</th>\n",
       "      <td>C</td>\n",
       "      <td>30</td>\n",
       "    </tr>\n",
       "    <tr>\n",
       "      <th>3</th>\n",
       "      <td>F</td>\n",
       "      <td>40</td>\n",
       "    </tr>\n",
       "    <tr>\n",
       "      <th>4</th>\n",
       "      <td>E</td>\n",
       "      <td>50</td>\n",
       "    </tr>\n",
       "    <tr>\n",
       "      <th>5</th>\n",
       "      <td>F</td>\n",
       "      <td>60</td>\n",
       "    </tr>\n",
       "    <tr>\n",
       "      <th>6</th>\n",
       "      <td>G</td>\n",
       "      <td>70</td>\n",
       "    </tr>\n",
       "  </tbody>\n",
       "</table>\n",
       "</div>"
      ],
      "text/plain": [
       "  NAME  MARK\n",
       "0    A    10\n",
       "1    B    20\n",
       "2    C    30\n",
       "3    F    40\n",
       "4    E    50\n",
       "5    F    60\n",
       "6    G    70"
      ]
     },
     "metadata": {},
     "output_type": "display_data"
    },
    {
     "data": {
      "text/plain": [
       "NAME     A\n",
       "MARK    10\n",
       "Name: 0, dtype: object"
      ]
     },
     "metadata": {},
     "output_type": "display_data"
    }
   ],
   "source": [
    "display(data_frame_new)\n",
    "display(data_frame_new.iloc[0])"
   ]
  },
  {
   "cell_type": "markdown",
   "metadata": {},
   "source": [
    "<H4> TASK <br>\n",
    "Create a quiz game. which basically as following features\n",
    "\n",
    "create_question()-> this function is responsible for creating N number of question with 4 option available and\n",
    "correct answer provided as well, returms daraframe  with N rows, 6 column['question','option1','option 2','option 3,\"option 4,\"correct_option]\n",
    "\n",
    "ask_question()-> use the dataframe generated and serially show the question row wise, and wait for user to give the answer if the answer is correct move to next question else terminate right away\n"
   ]
  },
  {
   "cell_type": "code",
   "execution_count": 40,
   "metadata": {},
   "outputs": [
    {
     "ename": "ValueError",
     "evalue": "invalid literal for int() with base 10: \"'\"",
     "output_type": "error",
     "traceback": [
      "\u001b[1;31m---------------------------------------------------------------------------\u001b[0m",
      "\u001b[1;31mValueError\u001b[0m                                Traceback (most recent call last)",
      "Cell \u001b[1;32mIn[40], line 36\u001b[0m\n\u001b[0;32m     23\u001b[0m     \u001b[38;5;28;01mreturn\u001b[39;00m (question_data)\n\u001b[0;32m     27\u001b[0m \u001b[38;5;66;03m# def ask_question(question_data):\u001b[39;00m\n\u001b[0;32m     28\u001b[0m     \u001b[38;5;66;03m# total_loop=question_data.shape[0]\u001b[39;00m\n\u001b[0;32m     29\u001b[0m     \n\u001b[1;32m   (...)\u001b[0m\n\u001b[0;32m     32\u001b[0m     \u001b[38;5;66;03m#     a=print(\"Enter correct answer:\")\u001b[39;00m\n\u001b[0;32m     33\u001b[0m     \u001b[38;5;66;03m#     question_data['correct'].loc[(question_data['MARK'] =a]\u001b[39;00m\n\u001b[1;32m---> 36\u001b[0m \u001b[43mcreate_question\u001b[49m\u001b[43m(\u001b[49m\u001b[43m)\u001b[49m\n\u001b[0;32m     37\u001b[0m \u001b[38;5;66;03m# ask_question()\u001b[39;00m\n",
      "Cell \u001b[1;32mIn[40], line 8\u001b[0m, in \u001b[0;36mcreate_question\u001b[1;34m()\u001b[0m\n\u001b[0;32m      6\u001b[0m list_option3\u001b[38;5;241m=\u001b[39m[]\n\u001b[0;32m      7\u001b[0m list_correct\u001b[38;5;241m=\u001b[39m[]\n\u001b[1;32m----> 8\u001b[0m n\u001b[38;5;241m=\u001b[39m\u001b[38;5;28;43mint\u001b[39;49m\u001b[43m(\u001b[49m\u001b[38;5;28;43minput\u001b[39;49m\u001b[43m(\u001b[49m\u001b[38;5;124;43m\"\u001b[39;49m\u001b[38;5;124;43menter number of question\u001b[39;49m\u001b[38;5;124;43m\"\u001b[39;49m\u001b[43m)\u001b[49m\u001b[43m)\u001b[49m\n\u001b[0;32m      9\u001b[0m \u001b[38;5;28;01mfor\u001b[39;00m i \u001b[38;5;129;01min\u001b[39;00m \u001b[38;5;28mrange\u001b[39m(n):\n\u001b[0;32m     10\u001b[0m     list_question\u001b[38;5;241m.\u001b[39mappend(\u001b[38;5;28minput\u001b[39m(\u001b[38;5;124m\"\u001b[39m\u001b[38;5;124menter question:\u001b[39m\u001b[38;5;124m\"\u001b[39m))\n",
      "\u001b[1;31mValueError\u001b[0m: invalid literal for int() with base 10: \"'\""
     ]
    }
   ],
   "source": [
    "import pandas as pd\n",
    "def create_question():\n",
    "    list_question=[]\n",
    "    list_option1=[]\n",
    "    list_option2=[]\n",
    "    list_option3=[]\n",
    "    list_correct=[]\n",
    "    n=int(input(\"enter number of question\"))\n",
    "    for i in range(n):\n",
    "        list_question.append(input(\"enter question:\"))\n",
    "        list_option1.append(input(\"Enter  option 1\"))\n",
    "        list_option2.append(input(\"enter option 2\"))\n",
    "        list_option3.append(input(\"enter option 3\"))\n",
    "        list_correct.append(input(\"enter correct option\"))\n",
    "    question_data=pd.DataFrame(columns=['Question','option1','option2','option3','correct'])\n",
    "\n",
    "    question_data['Question']=list_question\n",
    "    question_data['option1']=list_option1\n",
    "    question_data['option2']=list_option2\n",
    "    question_data['option3']=list_option3\n",
    "    question_data['correct']=list_correct\n",
    "\n",
    "    return (question_data)\n",
    "\n",
    "\n",
    "\n",
    "def ask_question(question_data):\n",
    "    total_loop=question_data.shape[0]\n",
    "    \n",
    "    for i in range (total_loop):\n",
    "        display(question_data.iloc[i])\n",
    "        a=print(\"Enter correct answer:\")\n",
    "        question_data['correct'].loc[(question_data['MARK'] =a]\n",
    "\n",
    "\n",
    "create_question()\n",
    "# ask_question()\n",
    "    \n",
    "\n",
    "\n",
    "\n",
    "\n",
    "\n"
   ]
  },
  {
   "cell_type": "code",
   "execution_count": 5,
   "metadata": {},
   "outputs": [
    {
     "data": {
      "text/html": [
       "<div>\n",
       "<style scoped>\n",
       "    .dataframe tbody tr th:only-of-type {\n",
       "        vertical-align: middle;\n",
       "    }\n",
       "\n",
       "    .dataframe tbody tr th {\n",
       "        vertical-align: top;\n",
       "    }\n",
       "\n",
       "    .dataframe thead th {\n",
       "        text-align: right;\n",
       "    }\n",
       "</style>\n",
       "<table border=\"1\" class=\"dataframe\">\n",
       "  <thead>\n",
       "    <tr style=\"text-align: right;\">\n",
       "      <th></th>\n",
       "      <th>eigenvalue</th>\n",
       "      <th>error</th>\n",
       "    </tr>\n",
       "  </thead>\n",
       "  <tbody>\n",
       "    <tr>\n",
       "      <th>0</th>\n",
       "      <td>49.558047</td>\n",
       "      <td>49.558047</td>\n",
       "    </tr>\n",
       "    <tr>\n",
       "      <th>1</th>\n",
       "      <td>19.158434</td>\n",
       "      <td>19.158434</td>\n",
       "    </tr>\n",
       "    <tr>\n",
       "      <th>2</th>\n",
       "      <td>21.011662</td>\n",
       "      <td>21.011662</td>\n",
       "    </tr>\n",
       "    <tr>\n",
       "      <th>3</th>\n",
       "      <td>22.516527</td>\n",
       "      <td>22.516527</td>\n",
       "    </tr>\n",
       "    <tr>\n",
       "      <th>4</th>\n",
       "      <td>22.284329</td>\n",
       "      <td>22.284329</td>\n",
       "    </tr>\n",
       "    <tr>\n",
       "      <th>5</th>\n",
       "      <td>22.333684</td>\n",
       "      <td>22.333684</td>\n",
       "    </tr>\n",
       "    <tr>\n",
       "      <th>6</th>\n",
       "      <td>22.323969</td>\n",
       "      <td>22.323969</td>\n",
       "    </tr>\n",
       "    <tr>\n",
       "      <th>7</th>\n",
       "      <td>22.325910</td>\n",
       "      <td>22.325910</td>\n",
       "    </tr>\n",
       "    <tr>\n",
       "      <th>8</th>\n",
       "      <td>22.325523</td>\n",
       "      <td>22.325523</td>\n",
       "    </tr>\n",
       "    <tr>\n",
       "      <th>9</th>\n",
       "      <td>22.325600</td>\n",
       "      <td>22.325600</td>\n",
       "    </tr>\n",
       "  </tbody>\n",
       "</table>\n",
       "</div>"
      ],
      "text/plain": [
       "   eigenvalue      error\n",
       "0   49.558047  49.558047\n",
       "1   19.158434  19.158434\n",
       "2   21.011662  21.011662\n",
       "3   22.516527  22.516527\n",
       "4   22.284329  22.284329\n",
       "5   22.333684  22.333684\n",
       "6   22.323969  22.323969\n",
       "7   22.325910  22.325910\n",
       "8   22.325523  22.325523\n",
       "9   22.325600  22.325600"
      ]
     },
     "execution_count": 5,
     "metadata": {},
     "output_type": "execute_result"
    }
   ],
   "source": [
    "import pandas as pd\n",
    "import numpy as np\n",
    "result = pd.DataFrame(columns= ['eigenvalue', 'error'])\n",
    "A= np.array([[1,9,8],\n",
    "[2,7,6],\n",
    "[7,20,9]])\n",
    "x= np.array([4,2,-8])\n",
    "max_iterations = 10\n",
    "e_toleran=0.00005\n",
    "oldEigenvalue = 0\n",
    "for i in range(max_iterations):\n",
    "    x = np.dot (A,x)\n",
    "    eigenvalue = np.linalg.norm(x)\n",
    "    error=(eigenvalue-oldEigenvalue)\n",
    "    x = x/eigenvalue\n",
    "    result.loc[i] = [eigenvalue, error]\n",
    "    if error<e_toleran:\n",
    "        break\n",
    "    oldEigenValue = eigenvalue\n",
    "result\n"
   ]
  },
  {
   "cell_type": "code",
   "execution_count": null,
   "metadata": {},
   "outputs": [],
   "source": []
  },
  {
   "cell_type": "markdown",
   "metadata": {},
   "source": [
    "Saving and loading datafraome"
   ]
  },
  {
   "cell_type": "code",
   "execution_count": 8,
   "metadata": {},
   "outputs": [],
   "source": [
    "import pandas as pd\n",
    "student_information=()\n",
    "N=input(\"enter how many student:\")\n",
    "student=[]\n",
    "marks=[]\n",
    "\n",
    "for i in range(int(N)):\n",
    "    student.append(input(f'enter student{i} name:'))\n",
    "    marks.append(input(f\"Enter the marks obtained by{student[i]}:\"))\n",
    "data_frame=pd.DataFrame()\n",
    "\n",
    "data_frame['Name']=student\n",
    "data_frame['marks']=marks\n",
    "\n",
    "data_frame=data_frame.sort_values(by='marks', ascending=False)\n",
    "#how to save dataframen here\n",
    "data_frame.to_csv('database_student.csv',index=False)\n"
   ]
  },
  {
   "cell_type": "code",
   "execution_count": 1,
   "metadata": {},
   "outputs": [
    {
     "data": {
      "text/html": [
       "<div>\n",
       "<style scoped>\n",
       "    .dataframe tbody tr th:only-of-type {\n",
       "        vertical-align: middle;\n",
       "    }\n",
       "\n",
       "    .dataframe tbody tr th {\n",
       "        vertical-align: top;\n",
       "    }\n",
       "\n",
       "    .dataframe thead th {\n",
       "        text-align: right;\n",
       "    }\n",
       "</style>\n",
       "<table border=\"1\" class=\"dataframe\">\n",
       "  <thead>\n",
       "    <tr style=\"text-align: right;\">\n",
       "      <th></th>\n",
       "      <th>Name</th>\n",
       "      <th>marks</th>\n",
       "    </tr>\n",
       "  </thead>\n",
       "  <tbody>\n",
       "    <tr>\n",
       "      <th>0</th>\n",
       "      <td>saroj</td>\n",
       "      <td>55</td>\n",
       "    </tr>\n",
       "    <tr>\n",
       "      <th>1</th>\n",
       "      <td>ram</td>\n",
       "      <td>55</td>\n",
       "    </tr>\n",
       "    <tr>\n",
       "      <th>2</th>\n",
       "      <td>shyam</td>\n",
       "      <td>22</td>\n",
       "    </tr>\n",
       "  </tbody>\n",
       "</table>\n",
       "</div>"
      ],
      "text/plain": [
       "    Name  marks\n",
       "0  saroj     55\n",
       "1    ram     55\n",
       "2  shyam     22"
      ]
     },
     "metadata": {},
     "output_type": "display_data"
    }
   ],
   "source": [
    "import pandas as pd\n",
    "data_frame_loaded=pd.read_csv(r'C:\\python data science\\python\\panda_learning\\database_student.csv')\n",
    "display(data_frame_loaded)"
   ]
  }
 ],
 "metadata": {
  "kernelspec": {
   "display_name": "Python 3",
   "language": "python",
   "name": "python3"
  },
  "language_info": {
   "codemirror_mode": {
    "name": "ipython",
    "version": 3
   },
   "file_extension": ".py",
   "mimetype": "text/x-python",
   "name": "python",
   "nbconvert_exporter": "python",
   "pygments_lexer": "ipython3",
   "version": "3.12.4"
  }
 },
 "nbformat": 4,
 "nbformat_minor": 2
}
