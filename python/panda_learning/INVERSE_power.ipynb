{
 "cells": [
  {
   "cell_type": "code",
   "execution_count": 2,
   "metadata": {},
   "outputs": [
    {
     "name": "stdout",
     "output_type": "stream",
     "text": [
      "Enter the elements row by row (space-separated):\n",
      "[[-3.   2. ]\n",
      " [ 2.5 -1.5]]\n",
      "The smallest eigenvalue is: 0.2169905660283016\n",
      "The corresponding eigenvector is: [ 0.77925158 -0.62671124]\n"
     ]
    }
   ],
   "source": [
    "import numpy as np\n",
    "\n",
    "def inverse_power_method(A, num_iterations: int = 100, tolerance: float = 1e-9):\n",
    "    n, m = A.shape\n",
    "    if n != m:\n",
    "        raise ValueError(\"Matrix must be square\")\n",
    "\n",
    "    # Start with a random vector of appropriate length\n",
    "    b_k = np.random.rand(n)\n",
    "\n",
    "    # Normalize the initial vector\n",
    "    b_k /= np.linalg.norm(b_k)\n",
    "\n",
    "    for _ in range(num_iterations):\n",
    "        # Solve the linear system A * b_k1 = b_k\n",
    "        b_k1 = np.dot(A, b_k)\n",
    "        \n",
    "        # Calculate the norm\n",
    "        b_k1_norm = np.linalg.norm(b_k1)\n",
    "        \n",
    "        # Re-normalize the vector\n",
    "        b_k = b_k1 / b_k1_norm\n",
    "\n",
    "        # Check for convergence\n",
    "        residual = np.linalg.norm(b_k - np.dot(A, b_k1))\n",
    "        if residual < tolerance:\n",
    "            break\n",
    "\n",
    "    eigenvalue = 1 / b_k1_norm\n",
    "    eigenvector = b_k\n",
    "    return eigenvalue, eigenvector\n",
    "\n",
    "# Function to take user input for the matrix\n",
    "def get_matrix_from_user():\n",
    "    n = int(input(\"Enter the order of the square matrix: \"))\n",
    "    A = []\n",
    "    print(\"Enter the elements row by row (space-separated):\")\n",
    "    for i in range(n):\n",
    "        row = list(map(float, input(f\"Row {i+1}: \").split()))\n",
    "        A.append(row)\n",
    "    print(np.linalg.inv(A))\n",
    "    return np.linalg.inv(A)\n",
    "    \n",
    "\n",
    "# Main function to execute the inverse power method with user input\n",
    "def main():\n",
    "    A = get_matrix_from_user()\n",
    "    eigenvalue, eigenvector = inverse_power_method(A)\n",
    "    print(\"The smallest eigenvalue is:\", eigenvalue)\n",
    "    print(\"The corresponding eigenvector is:\", eigenvector)\n",
    "\n",
    "if __name__ == \"__main__\":\n",
    "    main()\n"
   ]
  }
 ],
 "metadata": {
  "kernelspec": {
   "display_name": "Python 3",
   "language": "python",
   "name": "python3"
  },
  "language_info": {
   "codemirror_mode": {
    "name": "ipython",
    "version": 3
   },
   "file_extension": ".py",
   "mimetype": "text/x-python",
   "name": "python",
   "nbconvert_exporter": "python",
   "pygments_lexer": "ipython3",
   "version": "3.12.4"
  }
 },
 "nbformat": 4,
 "nbformat_minor": 2
}
